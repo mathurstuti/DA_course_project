{
 "cells": [
  {
   "cell_type": "markdown",
   "id": "5b1e4215",
   "metadata": {},
   "source": [
    "                                      Name : Stuti Mathur\n",
    "                                      Roll No. : 210108050\n",
    "        Title : Fake Review Detection Using Deep Neural Networks with Multimodal Feature Fusion Method"
   ]
  },
  {
   "cell_type": "markdown",
   "id": "91cd6477",
   "metadata": {},
   "source": [
    "                                         -> Motivation:"
   ]
  },
  {
   "cell_type": "markdown",
   "id": "7fdccc63",
   "metadata": {},
   "source": [
    "Online reviews strongly influence consumer behavior. However, platforms like Amazon, Yelp, and TripAdvisor are often flooded with \"\"fake reviews\"\" — misleading feedback generated to either promote or sabotage products. These fake reviews distort truth, deceive buyers, and undermine trust in digital marketplaces.\n",
    "\n",
    "As e-commerce thrives, \"automated and intelligent systems\" to detect fake reviews have become vital. This project aims to understand how \"deep learning and multimodal feature fusion\" can effectively identify fake reviews by learning from textual content, user behavior, and metadata.\n"
   ]
  },
  {
   "cell_type": "markdown",
   "id": "07cb3244",
   "metadata": {},
   "source": [
    "                        -> Multimodal Learning: A Quick Historical Overview"
   ]
  },
  {
   "cell_type": "markdown",
   "id": "9bd65309",
   "metadata": {},
   "source": [
    "Multimodal learning refers to the \"integration of information from multiple modalities\" —such as text, image, and behavior — for more robust machine understanding.\n",
    "\n",
    "Timeline Highlights:\n",
    "- Pre-2016: Focused on single-modality methods (BoW, TF-IDF + SVM).\n",
    "- 2017–2019: Rise of \"word embeddings\" (Word2Vec, GloVe) + simple CNNs.\n",
    "- 2019–2021: Introduction of \"BERT\" and \"transformers\" revolutionized NLP. Fake review detection adopted \"contextualized embeddings\".\n",
    "- 2022–2024: Emphasis on \"multimodal fusion\" using BERT + metadata + attention layers (e.g., TextCNN, BiGRU, Vision Transformers).\n",
    "- 2024+: Hierarchical and graph-based DL models now fuse user metadata, text, and even network structure for fake detection.\n",
    "\n",
    "Multimodal fusion has become critical for \"capturing deeper semantics\" in noisy or deceptive data like fake reviews.\n"
   ]
  },
  {
   "cell_type": "markdown",
   "id": "a5760dc2",
   "metadata": {},
   "source": [
    "                            -> Learnings from the Reviewed Works"
   ]
  },
  {
   "cell_type": "markdown",
   "id": "c60b037f",
   "metadata": {},
   "source": [
    "1. BMTBA Model (Xin Li et al.)\n",
    "\n",
    "- Architecture:\n",
    "\n",
    "  BERT + TextCNN + BiGRU + Attention:\n",
    "\n",
    "    - BERT handles contextual word embedding, capturing rich semantic nuances.\n",
    "    - TextCNN captures local n-gram level patterns in review text.\n",
    "    - BiGRU (Bidirectional Gated Recurrent Unit) models long-term dependencies and sequential flow of information.\n",
    "    - Attention focuses on important tokens/words to prioritize influential parts of the text.\n",
    "\n",
    "- Innovation:\n",
    "\n",
    "  Review Weekday (RW) Feature:\n",
    "\n",
    "  - An original behavioral feature identifying the day of the week a review was posted.\n",
    "  - Fake reviews are evenly distributed across all weekdays (since they're often scheduled).\n",
    "  - Genuine users tend to post after actual purchases (e.g., weekends → reviews on Sundays/Mondays).\n",
    "  - This subtle time-distribution feature helps the model capture unnatural patterns.\n",
    "\n",
    "- Dual Model Strategy:\n",
    "\n",
    "  The authors train separate models for detecting fake-positive and fake-negative reviews:\n",
    "\n",
    "  - Fake-positive: Meant to artificially promote a product.\n",
    "  - Fake-negative: Meant to damage a competitor's reputation.\n",
    "  This accounts for different linguistic and behavioral characteristics in the two classes of fakes.\n",
    "\n",
    "- Result:\n",
    "\n",
    "  - Achieved 94.68% accuracy on Yelp datasets.\n",
    "  - Outperformed models without RW or without separating fake-positive/negative reviews.\n",
    "\n",
    "\n",
    "\n",
    "2. HACNN Model (Bhoompally Venkatesh et al.)\n",
    "\n",
    "- Architecture:\n",
    "\n",
    "  Hierarchical Attention Network (HAN):\n",
    "\n",
    "  - Understands word → sentence → document structure using nested attention.\n",
    "  - Suitable for long reviews with varying emphasis.\n",
    "\n",
    "  Deep Convolutional Neural Network (DCNN):\n",
    "\n",
    "  - Captures spatial and local patterns (punctuation, stylistic clues).\n",
    "\n",
    "  Combined into a HACNN model that handles both semantics and structure effectively.\n",
    "\n",
    "- Feature Engineering:\n",
    "\n",
    "  Uses 15 handcrafted features, including:\n",
    "\n",
    "  - Textual: review length, number of capitalized words, punctuation count.\n",
    "  - Behavioral: rating deviation, review frequency, sentiment deviation.\n",
    "  Helps the model consider both what is written and how it’s written or posted.\n",
    "\n",
    "- Optimization:\n",
    "\n",
    "  Introduces Adam Archery Algorithm (AAA):\n",
    "\n",
    "  - Hybrid of Adam optimizer and Archery Algorithm (a meta-heuristic technique).\n",
    "  - Enhances convergence and generalization.\n",
    "\n",
    "- Data Imbalance Handling:\n",
    "\n",
    "  Uses SMOTE (Synthetic Minority Oversampling Technique) to:\n",
    "\n",
    "  - Augment minority class samples (fake reviews).\n",
    "  - Improve performance on imbalanced datasets.\n",
    "\n",
    "- Result:\n",
    "\n",
    "  Achieved 91.2% accuracy, notable for handling imbalance and combining handcrafted + learned features.\n",
    "\n",
    "---\n",
    "\n",
    "3. Survey on Multimodal Fake News Detection (ETASR, 2024)\n",
    "\n",
    "Though the focus is on fake news, its findings directly apply to fake review detection, especially in terms of fusion techniques and deep learning trends.\n",
    "\n",
    "- Key Insights:\n",
    "\n",
    "  Advanced Attention Mechanisms:\n",
    "\n",
    "  - Introduction of co-attention, self-attention, hierarchical attention to capture nuanced dependencies.\n",
    "  - Example: Co-attention can model relationships between review text and metadata (e.g., time, reviewer credibility).\n",
    "\n",
    "- Fusion Strategies:\n",
    "\n",
    "  - Early Fusion (data-level): Merging raw modalities before modeling (e.g., combining text with numerical rating).\n",
    "  - Intermediate Fusion (feature-level): Concatenating embeddings or learned representations from different sources.\n",
    "  - Late Fusion (decision-level): Averaging predictions from different modality-specific models.\n",
    "  - The review emphasizes that intermediate fusion (especially using attention) is most effective.\n",
    "\n",
    "- Model Trends:\n",
    "\n",
    "  - Recommends using transformers (like BERT, RoBERTa, ViT) for both text and visual modalities.\n",
    "  - Encourages hierarchical and multi-head attention for deep semantic reasoning, even in short reviews.\n",
    "\n",
    "- Application to Fake Reviews:\n",
    "\n",
    "- If product images, timestamps, or user networks are available, these can be multimodally fused with review text.\n",
    "- Transformers help generalize well even with subtle manipulation patterns in fake reviews.\n"
   ]
  },
  {
   "cell_type": "markdown",
   "id": "b7a76bd7",
   "metadata": {},
   "source": [
    "                          -> Code Cell: Feature Engineering Demo"
   ]
  },
  {
   "cell_type": "markdown",
   "id": "30c08b0d",
   "metadata": {},
   "source": [
    "Here’s a simple feature engineering example using review text and a synthetic feature for review posting day (RW):"
   ]
  },
  {
   "cell_type": "code",
   "execution_count": 5,
   "id": "1679ff59",
   "metadata": {},
   "outputs": [
    {
     "data": {
      "image/png": "[encoded data removed]",
      "text/plain": [
       "<Figure size 1000x400 with 2 Axes>"
      ]
     },
     "metadata": {},
     "output_type": "display_data"
    },
    {
     "name": "stdout",
     "output_type": "stream",
     "text": [
      "  day_of_week  rw_numeric  label\n",
      "0      Monday           1      0\n",
      "1     Tuesday           2      1\n",
      "2      Sunday           0      0\n",
      "3   Wednesday           3      1\n"
     ]
    }
   ],
   "source": [
    "import pandas as pd\n",
    "import seaborn as sns\n",
    "import matplotlib.pyplot as plt\n",
    "from sklearn.feature_extraction.text import TfidfVectorizer\n",
    "\n",
    "# Example fake review dataset (simulate)\n",
    "data = {\n",
    "    'review': [\n",
    "        \"Best headphones ever! Love the sound quality!\",  # likely real\n",
    "        \"Amazing amazing amazing product!!!\",             # likely fake\n",
    "        \"It broke in 1 day. Terrible quality.\",           # likely real\n",
    "        \"Buy this now! Unbelievable price!\",              # likely fake\n",
    "    ],\n",
    "    'day_of_week': ['Monday', 'Tuesday', 'Sunday', 'Wednesday'],\n",
    "    'label': [0, 1, 0, 1]  # 0 = real, 1 = fake\n",
    "}\n",
    "\n",
    "df = pd.DataFrame(data)\n",
    "\n",
    "# TF-IDF on review content\n",
    "tfidf = TfidfVectorizer()\n",
    "X_tfidf = tfidf.fit_transform(df['review']).toarray()\n",
    "tfidf_df = pd.DataFrame(X_tfidf, columns=tfidf.get_feature_names_out())\n",
    "\n",
    "# Visualize TF-IDF values\n",
    "plt.figure(figsize=(10, 4))\n",
    "sns.heatmap(tfidf_df, annot=True, cmap='viridis')\n",
    "plt.title(\"TF-IDF Representation of Review Text\")\n",
    "plt.show()\n",
    "\n",
    "# Add RW feature (encoding day)\n",
    "df['rw_numeric'] = df['day_of_week'].map({\n",
    "    'Sunday': 0, 'Monday': 1, 'Tuesday': 2, 'Wednesday': 3,\n",
    "    'Thursday': 4, 'Friday': 5, 'Saturday': 6\n",
    "})\n",
    "\n",
    "print(df[['day_of_week', 'rw_numeric', 'label']])"
   ]
  },
  {
   "cell_type": "markdown",
   "id": "08361ac0",
   "metadata": {},
   "source": [
    "                                   -> What Surprised Me:"
   ]
  },
  {
   "cell_type": "markdown",
   "id": "3805e205",
   "metadata": {},
   "source": [
    "- Fake reviews show consistent temporal patterns, unlike genuine ones.\n",
    "\n",
    "- Combining multiple modalities (text, metadata, behavior) significantly improves performance—even over sophisticated single-modality models.\n",
    "\n",
    "- Hierarchical attention allows the model to zoom in on subtle cues hidden within words/sentences."
   ]
  },
  {
   "cell_type": "markdown",
   "id": "c9030392",
   "metadata": {},
   "source": [
    "                                   -> Scope for Improvement:"
   ]
  },
  {
   "cell_type": "markdown",
   "id": "0dd77b78",
   "metadata": {},
   "source": [
    "- Public datasets lack diversity in domains and languages.\n",
    "\n",
    "- More work is needed in explainable AI: why was a review classified as fake?\n",
    "\n",
    "- Real-time detection under heavy web traffic remains a challenge."
   ]
  },
  {
   "cell_type": "markdown",
   "id": "c7f38402",
   "metadata": {},
   "source": [
    "                                  -> References & Resources: "
   ]
  },
  {
   "cell_type": "markdown",
   "id": "cf3e6f9c",
   "metadata": {},
   "source": [
    "- Xin Li, Lirong Chen – \"Fake Review Detection Using Deep Neural Networks with Multimodal Feature Fusion Method\" – IEEE ICPADS 2023.\n",
    "\n",
    "- Bhoompally Venkatesh – \"HACNN: Hierarchical Attention Convolutional Neural Network for Fake Review Detection\" – SNAM, 2024.\n",
    "\n",
    "- Abduljaleel & Ali – \"Deep Learning and Fusion Mechanism-based Multimodal Fake News Detection\" – ETASR, 2024."
   ]
  }
 ],
 "metadata": {
  "kernelspec": {
   "display_name": "Python 3",
   "language": "python",
   "name": "python3"
  },
  "language_info": {
   "codemirror_mode": {
    "name": "ipython",
    "version": 3
   },
   "file_extension": ".py",
   "mimetype": "text/x-python",
   "name": "python",
   "nbconvert_exporter": "python",
   "pygments_lexer": "ipython3",
   "version": "3.12.1"
  }
 },
 "nbformat": 4,
 "nbformat_minor": 5
}
